{
  "nbformat": 4,
  "nbformat_minor": 0,
  "metadata": {
    "colab": {
      "provenance": [],
      "include_colab_link": true
    },
    "kernelspec": {
      "name": "python3",
      "display_name": "Python 3"
    },
    "language_info": {
      "name": "python"
    }
  },
  "cells": [
    {
      "cell_type": "markdown",
      "metadata": {
        "id": "view-in-github",
        "colab_type": "text"
      },
      "source": [
        "<a href=\"https://colab.research.google.com/github/TTobing3/-/blob/main/%EC%86%A1%EC%9A%A9%EC%A7%84%EC%A0%88%EB%A8%B8%EB%A6%AC.ipynb\" target=\"_parent\"><img src=\"https://colab.research.google.com/assets/colab-badge.svg\" alt=\"Open In Colab\"/></a>"
      ]
    },
    {
      "cell_type": "code",
      "execution_count": null,
      "metadata": {
        "id": "3OgZdtSIBVy7"
      },
      "outputs": [],
      "source": [
        "import pandas as pd\n",
        "import matplotlib.pyplot as plt\n",
        "import numpy as np\n",
        "import seaborn as sns\n"
      ]
    },
    {
      "cell_type": "code",
      "source": [
        "fileName = 'Steam_Asia_WeeklySellerData.xlsx'\n",
        "df = pd.read_excel(fileName)\n",
        "\n",
        "#기초 정보 확인\n",
        "df.info()\n",
        "df.head(10)\n"
      ],
      "metadata": {
        "id": "n7Ue7I2fBiI9",
        "colab": {
          "base_uri": "https://localhost:8080/",
          "height": 1000
        },
        "outputId": "c70f8657-3b13-4c04-f79a-1479df2d6623"
      },
      "execution_count": null,
      "outputs": [
        {
          "output_type": "stream",
          "name": "stdout",
          "text": [
            "<class 'pandas.core.frame.DataFrame'>\n",
            "RangeIndex: 3300 entries, 0 to 3299\n",
            "Data columns (total 11 columns):\n",
            " #   Column      Non-Null Count  Dtype \n",
            "---  ------      --------------  ----- \n",
            " 0   Unnamed: 0  3300 non-null   int64 \n",
            " 1   순위          3300 non-null   int64 \n",
            " 2   이름          3300 non-null   object\n",
            " 3   가격          3300 non-null   object\n",
            " 4   기간          3299 non-null   object\n",
            " 5   측정 국가       3300 non-null   object\n",
            " 6   장르          3141 non-null   object\n",
            " 7   리뷰          3144 non-null   object\n",
            " 8   출시일         3144 non-null   object\n",
            " 9   개발사         3144 non-null   object\n",
            " 10  퍼블리셔        3126 non-null   object\n",
            "dtypes: int64(2), object(9)\n",
            "memory usage: 283.7+ KB\n"
          ]
        },
        {
          "output_type": "execute_result",
          "data": {
            "text/plain": [
              "   Unnamed: 0  순위                        이름        가격  \\\n",
              "0           0   1       PUBG: BATTLEGROUNDS         0   \n",
              "1           1   2                  Palworld  ₩ 32,000   \n",
              "2           2   3             HELLDIVERS™ 2  ₩ 44,800   \n",
              "3           3   4                  TEKKEN 8  ₩ 79,800   \n",
              "4           4   5            Lethal Company  ₩ 11,000   \n",
              "5           5   6     Yu-Gi-Oh! Master Duel         0   \n",
              "6           6   7  Granblue Fantasy: Relink  ₩ 69,800   \n",
              "7           7   8           DJMAX RESPECT V  ₩ 49,800   \n",
              "8           8   9              Ready or Not  ₩ 53,000   \n",
              "9           9  10                Enshrouded  ₩ 31,000   \n",
              "\n",
              "                                                  기간               측정 국가  \\\n",
              "0  For Tue, February 6, 2024 - Tue, February 13, ...  Korea, Republic of   \n",
              "1  For Tue, February 6, 2024 - Tue, February 13, ...  Korea, Republic of   \n",
              "2  For Tue, February 6, 2024 - Tue, February 13, ...  Korea, Republic of   \n",
              "3  For Tue, February 6, 2024 - Tue, February 13, ...  Korea, Republic of   \n",
              "4  For Tue, February 6, 2024 - Tue, February 13, ...  Korea, Republic of   \n",
              "5  For Tue, February 6, 2024 - Tue, February 13, ...  Korea, Republic of   \n",
              "6  For Tue, February 6, 2024 - Tue, February 13, ...  Korea, Republic of   \n",
              "7  For Tue, February 6, 2024 - Tue, February 13, ...  Korea, Republic of   \n",
              "8  For Tue, February 6, 2024 - Tue, February 13, ...  Korea, Republic of   \n",
              "9  For Tue, February 6, 2024 - Tue, February 13, ...  Korea, Republic of   \n",
              "\n",
              "                                                  장르  \\\n",
              "0  Action,Adventure,Massively Multiplayer,Free to...   \n",
              "1            Action,Adventure,Indie,RPG,Early Access   \n",
              "2                                             Action   \n",
              "3                                             Action   \n",
              "4                Action,Adventure,Indie,Early Access   \n",
              "5                   Simulation,Strategy,Free to Play   \n",
              "6                               Action,Adventure,RPG   \n",
              "7                               Action,Casual,Sports   \n",
              "8                             Action,Adventure,Indie   \n",
              "9                  Action,Adventure,RPG,Early Access   \n",
              "\n",
              "                                  리뷰           출시일                        개발사  \\\n",
              "0                  Mixed (2,348,376)  21 Dec, 2017              KRAFTON, Inc.   \n",
              "1            Very Positive (255,507)  19 Jan, 2024                 Pocketpair   \n",
              "2            Very Positive (315,043)   8 Feb, 2024     Arrowhead Game Studios   \n",
              "3           Mostly Positive (18,590)  26 Jan, 2024  Bandai Namco Studios Inc.   \n",
              "4  Overwhelmingly Positive (313,879)  24 Oct, 2023                   Zeekerss   \n",
              "5           Mostly Positive (72,302)  19 Jan, 2022                     KONAMI   \n",
              "6             Very Positive (29,229)   1 Feb, 2024              Cygames, Inc.   \n",
              "7             Very Positive (21,799)  12 Mar, 2020                     NEOWIZ   \n",
              "8            Very Positive (135,310)  14 Dec, 2023           VOID Interactive   \n",
              "9             Very Positive (43,341)  24 Jan, 2024            Keen Games GmbH   \n",
              "\n",
              "                         퍼블리셔  \n",
              "0               KRAFTON, Inc.  \n",
              "1                  Pocketpair  \n",
              "2          PlayStation PC LLC  \n",
              "3  Bandai Namco Entertainment  \n",
              "4                    Zeekerss  \n",
              "5                      KONAMI  \n",
              "6               Cygames, Inc.  \n",
              "7                      NEOWIZ  \n",
              "8            VOID Interactive  \n",
              "9             Keen Games GmbH  "
            ],
            "text/html": [
              "\n",
              "  <div id=\"df-c8647b57-dcb9-47c8-9888-58e48032921b\" class=\"colab-df-container\">\n",
              "    <div>\n",
              "<style scoped>\n",
              "    .dataframe tbody tr th:only-of-type {\n",
              "        vertical-align: middle;\n",
              "    }\n",
              "\n",
              "    .dataframe tbody tr th {\n",
              "        vertical-align: top;\n",
              "    }\n",
              "\n",
              "    .dataframe thead th {\n",
              "        text-align: right;\n",
              "    }\n",
              "</style>\n",
              "<table border=\"1\" class=\"dataframe\">\n",
              "  <thead>\n",
              "    <tr style=\"text-align: right;\">\n",
              "      <th></th>\n",
              "      <th>Unnamed: 0</th>\n",
              "      <th>순위</th>\n",
              "      <th>이름</th>\n",
              "      <th>가격</th>\n",
              "      <th>기간</th>\n",
              "      <th>측정 국가</th>\n",
              "      <th>장르</th>\n",
              "      <th>리뷰</th>\n",
              "      <th>출시일</th>\n",
              "      <th>개발사</th>\n",
              "      <th>퍼블리셔</th>\n",
              "    </tr>\n",
              "  </thead>\n",
              "  <tbody>\n",
              "    <tr>\n",
              "      <th>0</th>\n",
              "      <td>0</td>\n",
              "      <td>1</td>\n",
              "      <td>PUBG: BATTLEGROUNDS</td>\n",
              "      <td>0</td>\n",
              "      <td>For Tue, February 6, 2024 - Tue, February 13, ...</td>\n",
              "      <td>Korea, Republic of</td>\n",
              "      <td>Action,Adventure,Massively Multiplayer,Free to...</td>\n",
              "      <td>Mixed (2,348,376)</td>\n",
              "      <td>21 Dec, 2017</td>\n",
              "      <td>KRAFTON, Inc.</td>\n",
              "      <td>KRAFTON, Inc.</td>\n",
              "    </tr>\n",
              "    <tr>\n",
              "      <th>1</th>\n",
              "      <td>1</td>\n",
              "      <td>2</td>\n",
              "      <td>Palworld</td>\n",
              "      <td>₩ 32,000</td>\n",
              "      <td>For Tue, February 6, 2024 - Tue, February 13, ...</td>\n",
              "      <td>Korea, Republic of</td>\n",
              "      <td>Action,Adventure,Indie,RPG,Early Access</td>\n",
              "      <td>Very Positive (255,507)</td>\n",
              "      <td>19 Jan, 2024</td>\n",
              "      <td>Pocketpair</td>\n",
              "      <td>Pocketpair</td>\n",
              "    </tr>\n",
              "    <tr>\n",
              "      <th>2</th>\n",
              "      <td>2</td>\n",
              "      <td>3</td>\n",
              "      <td>HELLDIVERS™ 2</td>\n",
              "      <td>₩ 44,800</td>\n",
              "      <td>For Tue, February 6, 2024 - Tue, February 13, ...</td>\n",
              "      <td>Korea, Republic of</td>\n",
              "      <td>Action</td>\n",
              "      <td>Very Positive (315,043)</td>\n",
              "      <td>8 Feb, 2024</td>\n",
              "      <td>Arrowhead Game Studios</td>\n",
              "      <td>PlayStation PC LLC</td>\n",
              "    </tr>\n",
              "    <tr>\n",
              "      <th>3</th>\n",
              "      <td>3</td>\n",
              "      <td>4</td>\n",
              "      <td>TEKKEN 8</td>\n",
              "      <td>₩ 79,800</td>\n",
              "      <td>For Tue, February 6, 2024 - Tue, February 13, ...</td>\n",
              "      <td>Korea, Republic of</td>\n",
              "      <td>Action</td>\n",
              "      <td>Mostly Positive (18,590)</td>\n",
              "      <td>26 Jan, 2024</td>\n",
              "      <td>Bandai Namco Studios Inc.</td>\n",
              "      <td>Bandai Namco Entertainment</td>\n",
              "    </tr>\n",
              "    <tr>\n",
              "      <th>4</th>\n",
              "      <td>4</td>\n",
              "      <td>5</td>\n",
              "      <td>Lethal Company</td>\n",
              "      <td>₩ 11,000</td>\n",
              "      <td>For Tue, February 6, 2024 - Tue, February 13, ...</td>\n",
              "      <td>Korea, Republic of</td>\n",
              "      <td>Action,Adventure,Indie,Early Access</td>\n",
              "      <td>Overwhelmingly Positive (313,879)</td>\n",
              "      <td>24 Oct, 2023</td>\n",
              "      <td>Zeekerss</td>\n",
              "      <td>Zeekerss</td>\n",
              "    </tr>\n",
              "    <tr>\n",
              "      <th>5</th>\n",
              "      <td>5</td>\n",
              "      <td>6</td>\n",
              "      <td>Yu-Gi-Oh! Master Duel</td>\n",
              "      <td>0</td>\n",
              "      <td>For Tue, February 6, 2024 - Tue, February 13, ...</td>\n",
              "      <td>Korea, Republic of</td>\n",
              "      <td>Simulation,Strategy,Free to Play</td>\n",
              "      <td>Mostly Positive (72,302)</td>\n",
              "      <td>19 Jan, 2022</td>\n",
              "      <td>KONAMI</td>\n",
              "      <td>KONAMI</td>\n",
              "    </tr>\n",
              "    <tr>\n",
              "      <th>6</th>\n",
              "      <td>6</td>\n",
              "      <td>7</td>\n",
              "      <td>Granblue Fantasy: Relink</td>\n",
              "      <td>₩ 69,800</td>\n",
              "      <td>For Tue, February 6, 2024 - Tue, February 13, ...</td>\n",
              "      <td>Korea, Republic of</td>\n",
              "      <td>Action,Adventure,RPG</td>\n",
              "      <td>Very Positive (29,229)</td>\n",
              "      <td>1 Feb, 2024</td>\n",
              "      <td>Cygames, Inc.</td>\n",
              "      <td>Cygames, Inc.</td>\n",
              "    </tr>\n",
              "    <tr>\n",
              "      <th>7</th>\n",
              "      <td>7</td>\n",
              "      <td>8</td>\n",
              "      <td>DJMAX RESPECT V</td>\n",
              "      <td>₩ 49,800</td>\n",
              "      <td>For Tue, February 6, 2024 - Tue, February 13, ...</td>\n",
              "      <td>Korea, Republic of</td>\n",
              "      <td>Action,Casual,Sports</td>\n",
              "      <td>Very Positive (21,799)</td>\n",
              "      <td>12 Mar, 2020</td>\n",
              "      <td>NEOWIZ</td>\n",
              "      <td>NEOWIZ</td>\n",
              "    </tr>\n",
              "    <tr>\n",
              "      <th>8</th>\n",
              "      <td>8</td>\n",
              "      <td>9</td>\n",
              "      <td>Ready or Not</td>\n",
              "      <td>₩ 53,000</td>\n",
              "      <td>For Tue, February 6, 2024 - Tue, February 13, ...</td>\n",
              "      <td>Korea, Republic of</td>\n",
              "      <td>Action,Adventure,Indie</td>\n",
              "      <td>Very Positive (135,310)</td>\n",
              "      <td>14 Dec, 2023</td>\n",
              "      <td>VOID Interactive</td>\n",
              "      <td>VOID Interactive</td>\n",
              "    </tr>\n",
              "    <tr>\n",
              "      <th>9</th>\n",
              "      <td>9</td>\n",
              "      <td>10</td>\n",
              "      <td>Enshrouded</td>\n",
              "      <td>₩ 31,000</td>\n",
              "      <td>For Tue, February 6, 2024 - Tue, February 13, ...</td>\n",
              "      <td>Korea, Republic of</td>\n",
              "      <td>Action,Adventure,RPG,Early Access</td>\n",
              "      <td>Very Positive (43,341)</td>\n",
              "      <td>24 Jan, 2024</td>\n",
              "      <td>Keen Games GmbH</td>\n",
              "      <td>Keen Games GmbH</td>\n",
              "    </tr>\n",
              "  </tbody>\n",
              "</table>\n",
              "</div>\n",
              "    <div class=\"colab-df-buttons\">\n",
              "\n",
              "  <div class=\"colab-df-container\">\n",
              "    <button class=\"colab-df-convert\" onclick=\"convertToInteractive('df-c8647b57-dcb9-47c8-9888-58e48032921b')\"\n",
              "            title=\"Convert this dataframe to an interactive table.\"\n",
              "            style=\"display:none;\">\n",
              "\n",
              "  <svg xmlns=\"http://www.w3.org/2000/svg\" height=\"24px\" viewBox=\"0 -960 960 960\">\n",
              "    <path d=\"M120-120v-720h720v720H120Zm60-500h600v-160H180v160Zm220 220h160v-160H400v160Zm0 220h160v-160H400v160ZM180-400h160v-160H180v160Zm440 0h160v-160H620v160ZM180-180h160v-160H180v160Zm440 0h160v-160H620v160Z\"/>\n",
              "  </svg>\n",
              "    </button>\n",
              "\n",
              "  <style>\n",
              "    .colab-df-container {\n",
              "      display:flex;\n",
              "      gap: 12px;\n",
              "    }\n",
              "\n",
              "    .colab-df-convert {\n",
              "      background-color: #E8F0FE;\n",
              "      border: none;\n",
              "      border-radius: 50%;\n",
              "      cursor: pointer;\n",
              "      display: none;\n",
              "      fill: #1967D2;\n",
              "      height: 32px;\n",
              "      padding: 0 0 0 0;\n",
              "      width: 32px;\n",
              "    }\n",
              "\n",
              "    .colab-df-convert:hover {\n",
              "      background-color: #E2EBFA;\n",
              "      box-shadow: 0px 1px 2px rgba(60, 64, 67, 0.3), 0px 1px 3px 1px rgba(60, 64, 67, 0.15);\n",
              "      fill: #174EA6;\n",
              "    }\n",
              "\n",
              "    .colab-df-buttons div {\n",
              "      margin-bottom: 4px;\n",
              "    }\n",
              "\n",
              "    [theme=dark] .colab-df-convert {\n",
              "      background-color: #3B4455;\n",
              "      fill: #D2E3FC;\n",
              "    }\n",
              "\n",
              "    [theme=dark] .colab-df-convert:hover {\n",
              "      background-color: #434B5C;\n",
              "      box-shadow: 0px 1px 3px 1px rgba(0, 0, 0, 0.15);\n",
              "      filter: drop-shadow(0px 1px 2px rgba(0, 0, 0, 0.3));\n",
              "      fill: #FFFFFF;\n",
              "    }\n",
              "  </style>\n",
              "\n",
              "    <script>\n",
              "      const buttonEl =\n",
              "        document.querySelector('#df-c8647b57-dcb9-47c8-9888-58e48032921b button.colab-df-convert');\n",
              "      buttonEl.style.display =\n",
              "        google.colab.kernel.accessAllowed ? 'block' : 'none';\n",
              "\n",
              "      async function convertToInteractive(key) {\n",
              "        const element = document.querySelector('#df-c8647b57-dcb9-47c8-9888-58e48032921b');\n",
              "        const dataTable =\n",
              "          await google.colab.kernel.invokeFunction('convertToInteractive',\n",
              "                                                    [key], {});\n",
              "        if (!dataTable) return;\n",
              "\n",
              "        const docLinkHtml = 'Like what you see? Visit the ' +\n",
              "          '<a target=\"_blank\" href=https://colab.research.google.com/notebooks/data_table.ipynb>data table notebook</a>'\n",
              "          + ' to learn more about interactive tables.';\n",
              "        element.innerHTML = '';\n",
              "        dataTable['output_type'] = 'display_data';\n",
              "        await google.colab.output.renderOutput(dataTable, element);\n",
              "        const docLink = document.createElement('div');\n",
              "        docLink.innerHTML = docLinkHtml;\n",
              "        element.appendChild(docLink);\n",
              "      }\n",
              "    </script>\n",
              "  </div>\n",
              "\n",
              "\n",
              "<div id=\"df-8235f42c-e83a-4774-9b0b-0df19bdd629a\">\n",
              "  <button class=\"colab-df-quickchart\" onclick=\"quickchart('df-8235f42c-e83a-4774-9b0b-0df19bdd629a')\"\n",
              "            title=\"Suggest charts\"\n",
              "            style=\"display:none;\">\n",
              "\n",
              "<svg xmlns=\"http://www.w3.org/2000/svg\" height=\"24px\"viewBox=\"0 0 24 24\"\n",
              "     width=\"24px\">\n",
              "    <g>\n",
              "        <path d=\"M19 3H5c-1.1 0-2 .9-2 2v14c0 1.1.9 2 2 2h14c1.1 0 2-.9 2-2V5c0-1.1-.9-2-2-2zM9 17H7v-7h2v7zm4 0h-2V7h2v10zm4 0h-2v-4h2v4z\"/>\n",
              "    </g>\n",
              "</svg>\n",
              "  </button>\n",
              "\n",
              "<style>\n",
              "  .colab-df-quickchart {\n",
              "      --bg-color: #E8F0FE;\n",
              "      --fill-color: #1967D2;\n",
              "      --hover-bg-color: #E2EBFA;\n",
              "      --hover-fill-color: #174EA6;\n",
              "      --disabled-fill-color: #AAA;\n",
              "      --disabled-bg-color: #DDD;\n",
              "  }\n",
              "\n",
              "  [theme=dark] .colab-df-quickchart {\n",
              "      --bg-color: #3B4455;\n",
              "      --fill-color: #D2E3FC;\n",
              "      --hover-bg-color: #434B5C;\n",
              "      --hover-fill-color: #FFFFFF;\n",
              "      --disabled-bg-color: #3B4455;\n",
              "      --disabled-fill-color: #666;\n",
              "  }\n",
              "\n",
              "  .colab-df-quickchart {\n",
              "    background-color: var(--bg-color);\n",
              "    border: none;\n",
              "    border-radius: 50%;\n",
              "    cursor: pointer;\n",
              "    display: none;\n",
              "    fill: var(--fill-color);\n",
              "    height: 32px;\n",
              "    padding: 0;\n",
              "    width: 32px;\n",
              "  }\n",
              "\n",
              "  .colab-df-quickchart:hover {\n",
              "    background-color: var(--hover-bg-color);\n",
              "    box-shadow: 0 1px 2px rgba(60, 64, 67, 0.3), 0 1px 3px 1px rgba(60, 64, 67, 0.15);\n",
              "    fill: var(--button-hover-fill-color);\n",
              "  }\n",
              "\n",
              "  .colab-df-quickchart-complete:disabled,\n",
              "  .colab-df-quickchart-complete:disabled:hover {\n",
              "    background-color: var(--disabled-bg-color);\n",
              "    fill: var(--disabled-fill-color);\n",
              "    box-shadow: none;\n",
              "  }\n",
              "\n",
              "  .colab-df-spinner {\n",
              "    border: 2px solid var(--fill-color);\n",
              "    border-color: transparent;\n",
              "    border-bottom-color: var(--fill-color);\n",
              "    animation:\n",
              "      spin 1s steps(1) infinite;\n",
              "  }\n",
              "\n",
              "  @keyframes spin {\n",
              "    0% {\n",
              "      border-color: transparent;\n",
              "      border-bottom-color: var(--fill-color);\n",
              "      border-left-color: var(--fill-color);\n",
              "    }\n",
              "    20% {\n",
              "      border-color: transparent;\n",
              "      border-left-color: var(--fill-color);\n",
              "      border-top-color: var(--fill-color);\n",
              "    }\n",
              "    30% {\n",
              "      border-color: transparent;\n",
              "      border-left-color: var(--fill-color);\n",
              "      border-top-color: var(--fill-color);\n",
              "      border-right-color: var(--fill-color);\n",
              "    }\n",
              "    40% {\n",
              "      border-color: transparent;\n",
              "      border-right-color: var(--fill-color);\n",
              "      border-top-color: var(--fill-color);\n",
              "    }\n",
              "    60% {\n",
              "      border-color: transparent;\n",
              "      border-right-color: var(--fill-color);\n",
              "    }\n",
              "    80% {\n",
              "      border-color: transparent;\n",
              "      border-right-color: var(--fill-color);\n",
              "      border-bottom-color: var(--fill-color);\n",
              "    }\n",
              "    90% {\n",
              "      border-color: transparent;\n",
              "      border-bottom-color: var(--fill-color);\n",
              "    }\n",
              "  }\n",
              "</style>\n",
              "\n",
              "  <script>\n",
              "    async function quickchart(key) {\n",
              "      const quickchartButtonEl =\n",
              "        document.querySelector('#' + key + ' button');\n",
              "      quickchartButtonEl.disabled = true;  // To prevent multiple clicks.\n",
              "      quickchartButtonEl.classList.add('colab-df-spinner');\n",
              "      try {\n",
              "        const charts = await google.colab.kernel.invokeFunction(\n",
              "            'suggestCharts', [key], {});\n",
              "      } catch (error) {\n",
              "        console.error('Error during call to suggestCharts:', error);\n",
              "      }\n",
              "      quickchartButtonEl.classList.remove('colab-df-spinner');\n",
              "      quickchartButtonEl.classList.add('colab-df-quickchart-complete');\n",
              "    }\n",
              "    (() => {\n",
              "      let quickchartButtonEl =\n",
              "        document.querySelector('#df-8235f42c-e83a-4774-9b0b-0df19bdd629a button');\n",
              "      quickchartButtonEl.style.display =\n",
              "        google.colab.kernel.accessAllowed ? 'block' : 'none';\n",
              "    })();\n",
              "  </script>\n",
              "</div>\n",
              "\n",
              "    </div>\n",
              "  </div>\n"
            ],
            "application/vnd.google.colaboratory.intrinsic+json": {
              "type": "dataframe",
              "variable_name": "df",
              "summary": "{\n  \"name\": \"df\",\n  \"rows\": 3300,\n  \"fields\": [\n    {\n      \"column\": \"Unnamed: 0\",\n      \"properties\": {\n        \"dtype\": \"number\",\n        \"std\": 952,\n        \"min\": 0,\n        \"max\": 3299,\n        \"num_unique_values\": 3300,\n        \"samples\": [\n          52,\n          679,\n          1253\n        ],\n        \"semantic_type\": \"\",\n        \"description\": \"\"\n      }\n    },\n    {\n      \"column\": \"\\uc21c\\uc704\",\n      \"properties\": {\n        \"dtype\": \"number\",\n        \"std\": 28,\n        \"min\": 1,\n        \"max\": 100,\n        \"num_unique_values\": 100,\n        \"samples\": [\n          84,\n          54,\n          71\n        ],\n        \"semantic_type\": \"\",\n        \"description\": \"\"\n      }\n    },\n    {\n      \"column\": \"\\uc774\\ub984\",\n      \"properties\": {\n        \"dtype\": \"category\",\n        \"num_unique_values\": 540,\n        \"samples\": [\n          \"Outpost: Infinity Siege\",\n          \"SANABI\",\n          \"Touhou: Lost Branch of Legend\"\n        ],\n        \"semantic_type\": \"\",\n        \"description\": \"\"\n      }\n    },\n    {\n      \"column\": \"\\uac00\\uaca9\",\n      \"properties\": {\n        \"dtype\": \"category\",\n        \"num_unique_values\": 231,\n        \"samples\": [\n          \"\\u20a9 46,400\",\n          \"\\u20a9 89,800\\n\\u20a9 22,450\",\n          \"\\u20a9 66,000\"\n        ],\n        \"semantic_type\": \"\",\n        \"description\": \"\"\n      }\n    },\n    {\n      \"column\": \"\\uae30\\uac04\",\n      \"properties\": {\n        \"dtype\": \"category\",\n        \"num_unique_values\": 11,\n        \"samples\": [\n          \"For Tue, March 12, 2024 - Tue, March 19, 2024\",\n          \"For Tue, February 6, 2024 - Tue, February 13, 2024\",\n          \"For Tue, April 9, 2024 - Tue, April 16, 2024\"\n        ],\n        \"semantic_type\": \"\",\n        \"description\": \"\"\n      }\n    },\n    {\n      \"column\": \"\\uce21\\uc815 \\uad6d\\uac00\",\n      \"properties\": {\n        \"dtype\": \"category\",\n        \"num_unique_values\": 3,\n        \"samples\": [\n          \"Korea, Republic of\",\n          \"China\",\n          \"Japan\"\n        ],\n        \"semantic_type\": \"\",\n        \"description\": \"\"\n      }\n    },\n    {\n      \"column\": \"\\uc7a5\\ub974\",\n      \"properties\": {\n        \"dtype\": \"category\",\n        \"num_unique_values\": 148,\n        \"samples\": [\n          \"Action,Adventure,Casual,Massively Multiplayer\",\n          \"Indie,Simulation\",\n          \"Adventure,Racing,Simulation\"\n        ],\n        \"semantic_type\": \"\",\n        \"description\": \"\"\n      }\n    },\n    {\n      \"column\": \"\\ub9ac\\ubdf0\",\n      \"properties\": {\n        \"dtype\": \"category\",\n        \"num_unique_values\": 1183,\n        \"samples\": [\n          \"Very Positive (21,931)\",\n          \"Very Positive (30,205)\",\n          \"Mixed (494)\"\n        ],\n        \"semantic_type\": \"\",\n        \"description\": \"\"\n      }\n    },\n    {\n      \"column\": \"\\ucd9c\\uc2dc\\uc77c\",\n      \"properties\": {\n        \"dtype\": \"category\",\n        \"num_unique_values\": 385,\n        \"samples\": [\n          \"23 Mar, 2018\",\n          \"20 Oct, 2016\",\n          \"11 Jul, 2019\"\n        ],\n        \"semantic_type\": \"\",\n        \"description\": \"\"\n      }\n    },\n    {\n      \"column\": \"\\uac1c\\ubc1c\\uc0ac\",\n      \"properties\": {\n        \"dtype\": \"category\",\n        \"num_unique_values\": 343,\n        \"samples\": [\n          \"Angela Game\",\n          \"Gearbox Software\",\n          \"Lazy Bear Games\"\n        ],\n        \"semantic_type\": \"\",\n        \"description\": \"\"\n      }\n    },\n    {\n      \"column\": \"\\ud37c\\ube14\\ub9ac\\uc154\",\n      \"properties\": {\n        \"dtype\": \"category\",\n        \"num_unique_values\": 261,\n        \"samples\": [\n          \"Digital Extremes\",\n          \"CRITICAL REFLEX\",\n          \"Ghostpie Studio, Gamera Games\"\n        ],\n        \"semantic_type\": \"\",\n        \"description\": \"\"\n      }\n    }\n  ]\n}"
            }
          },
          "metadata": {},
          "execution_count": 515
        }
      ]
    },
    {
      "cell_type": "code",
      "source": [
        "\n",
        "#사용할 데이터 프레임 선정\n",
        "use_df = df[['기간','측정 국가','장르','리뷰']]\n",
        "\n",
        "use_df.info()\n"
      ],
      "metadata": {
        "colab": {
          "base_uri": "https://localhost:8080/"
        },
        "id": "4-eGhSmGECtU",
        "outputId": "678caa37-0506-4f05-85b8-94455f318bc1"
      },
      "execution_count": null,
      "outputs": [
        {
          "output_type": "stream",
          "name": "stdout",
          "text": [
            "<class 'pandas.core.frame.DataFrame'>\n",
            "RangeIndex: 3300 entries, 0 to 3299\n",
            "Data columns (total 4 columns):\n",
            " #   Column  Non-Null Count  Dtype \n",
            "---  ------  --------------  ----- \n",
            " 0   기간      3299 non-null   object\n",
            " 1   측정 국가   3300 non-null   object\n",
            " 2   장르      3141 non-null   object\n",
            " 3   리뷰      3144 non-null   object\n",
            "dtypes: object(4)\n",
            "memory usage: 103.2+ KB\n"
          ]
        }
      ]
    },
    {
      "cell_type": "markdown",
      "source": [
        "0. 장르에서 null에 해당하는 행은 삭제로 결측치 처리\n",
        "1. 기간 데이터에서 측정한 월 데이터 추출\n",
        "2. 장르 지정된 장르 외의 장르 삭제\n",
        "3. 리뷰는 리뷰 수 부분을 버리고 평가를 평점으로 변환"
      ],
      "metadata": {
        "id": "7GgSu0PlRmvw"
      }
    },
    {
      "cell_type": "code",
      "source": [
        "#결측치 처리\n",
        "use_df.isna().sum()\n",
        "use_df = use_df.dropna(axis=0)\n",
        "use_df.info()"
      ],
      "metadata": {
        "colab": {
          "base_uri": "https://localhost:8080/"
        },
        "id": "041IQjw9SGLl",
        "outputId": "5f4c40d4-5bff-4a8f-88bc-39f283e62043"
      },
      "execution_count": null,
      "outputs": [
        {
          "output_type": "stream",
          "name": "stdout",
          "text": [
            "<class 'pandas.core.frame.DataFrame'>\n",
            "Index: 3141 entries, 0 to 3298\n",
            "Data columns (total 4 columns):\n",
            " #   Column  Non-Null Count  Dtype \n",
            "---  ------  --------------  ----- \n",
            " 0   기간      3141 non-null   object\n",
            " 1   측정 국가   3141 non-null   object\n",
            " 2   장르      3141 non-null   object\n",
            " 3   리뷰      3141 non-null   object\n",
            "dtypes: object(4)\n",
            "memory usage: 122.7+ KB\n"
          ]
        }
      ]
    },
    {
      "cell_type": "code",
      "source": [
        "#기간 데이터 변환\n",
        "\n",
        "#데이터 형태 확인\n",
        "use_df['기간'].head(5)"
      ],
      "metadata": {
        "colab": {
          "base_uri": "https://localhost:8080/"
        },
        "id": "9RjlhYZWVfgQ",
        "outputId": "ff548346-f051-4470-9724-bbe75d164e61"
      },
      "execution_count": null,
      "outputs": [
        {
          "output_type": "execute_result",
          "data": {
            "text/plain": [
              "0    For Tue, February 6, 2024 - Tue, February 13, ...\n",
              "1    For Tue, February 6, 2024 - Tue, February 13, ...\n",
              "2    For Tue, February 6, 2024 - Tue, February 13, ...\n",
              "3    For Tue, February 6, 2024 - Tue, February 13, ...\n",
              "4    For Tue, February 6, 2024 - Tue, February 13, ...\n",
              "Name: 기간, dtype: object"
            ]
          },
          "metadata": {},
          "execution_count": 518
        }
      ]
    },
    {
      "cell_type": "code",
      "source": [
        "\n",
        "#월 데이터 추가, 측정 시작일 종료일 나누기 및 요일 데이터 없앤 후 끝 공백 없애기\n",
        "\n",
        "use_df['측정월'] = use_df['기간'].apply(lambda x : str(x).split('-')[0].split(',')[1].strip())\n",
        "\n",
        "# 측정 시작월에 포함\n",
        "use_df['측정월'] =  use_df['측정월'].apply(lambda x : str(x).split(' ')[0])\n",
        "\n",
        "use_df['측정월'].head(3)"
      ],
      "metadata": {
        "colab": {
          "base_uri": "https://localhost:8080/"
        },
        "id": "X6jcFojMV0Zh",
        "outputId": "7e195a5b-f93c-40a5-bcee-5eff564a1e18"
      },
      "execution_count": null,
      "outputs": [
        {
          "output_type": "execute_result",
          "data": {
            "text/plain": [
              "0    February\n",
              "1    February\n",
              "2    February\n",
              "Name: 측정월, dtype: object"
            ]
          },
          "metadata": {},
          "execution_count": 519
        }
      ]
    },
    {
      "cell_type": "code",
      "source": [
        "#장르 지정된 장르 외의 장르 삭제\n",
        "genre = 'Action,Arcade & Rhythm,Fighting & Martial Arts,First-Person Shooter,Hack & Slash,Platformer & Runner,Third-Person Shooter,shmup,Adventure,Adventure RPG,Casual,Hidden Object,Metroidvania,Puzzle,Story-Rich,Visual Novel,Role-Playing,Action RPG,Adventure RPG,JRPG,Party-Based,Rogue-Like,Strategy,RPG,Turn-Based,Simulation,Building & Automation,Dating,Farming & Crafting,Hobby & Job,Life & Immersive,Sandbox & Physics,Space & Flight,Strategy,Card & Board,City & Settlement,Grand & 4X,Military,Real-Time Strategy,Tower Defense,Turn-Based Strategy,Sports & Racing,All Sports,Fishing & Hunting,Individual Sports,Racing,Racing Sim,Sports Sim,Team Sports'.split(',')\n",
        "def remove_minor_genre(g) :\n",
        "  tmp = []\n",
        "  tmp_g = g.split(',')\n",
        "  for i in tmp_g :\n",
        "    if i in genre : tmp.append(i)\n",
        "  return tmp\n",
        "\n",
        "use_df = use_df[use_df['장르'].apply(lambda x: len(x) > 0)]\n",
        "\n",
        "pd.DataFrame(use_df['장르'].value_counts()).head(30)\n",
        "\n",
        "use_df['장르'].info()\n",
        "\n"
      ],
      "metadata": {
        "colab": {
          "base_uri": "https://localhost:8080/"
        },
        "id": "TTYPMeAzlKHy",
        "outputId": "cb3e65e1-415c-4ee9-c422-8f26f0409f4d"
      },
      "execution_count": null,
      "outputs": [
        {
          "output_type": "stream",
          "name": "stdout",
          "text": [
            "<class 'pandas.core.series.Series'>\n",
            "Index: 3141 entries, 0 to 3298\n",
            "Series name: 장르\n",
            "Non-Null Count  Dtype \n",
            "--------------  ----- \n",
            "3141 non-null   object\n",
            "dtypes: object(1)\n",
            "memory usage: 49.1+ KB\n"
          ]
        }
      ]
    },
    {
      "cell_type": "code",
      "source": [
        "#리뷰수와 리뷰로 나눈 후 리뷰의 경우 float 타입의 평점으로 변환\n",
        "\n",
        "review = ['Overwhelming Positive','Very Positive','Positive','Mostly Positive','Mixed','Mostly Negative','Negative','Very Negative','Overwhelmingly Negative']\n",
        "\n",
        "def change_review_to_rating(r):\n",
        "  for i in range(8,-1,-1) :\n",
        "    if review[i] in r :\n",
        "      return i + 1\n",
        "  return 0\n",
        "\n",
        "\n",
        "#데이터 확인\n",
        "use_df['리뷰'].info()\n",
        "use_df['리뷰'].head(10)\n",
        "\n",
        "#분리\n",
        "use_df['평점'] = use_df['리뷰'].apply(lambda x : change_review_to_rating(x))\n",
        "\n",
        "pd.DataFrame(use_df['평점'].value_counts())\n",
        "\n",
        "use_df.info()\n",
        "\n",
        "#평점 결측 데이터 대체\n",
        "\n",
        "use_df['평점'] = use_df['평점'].fillna(0)\n",
        "\n",
        "use_df.info()\n"
      ],
      "metadata": {
        "colab": {
          "base_uri": "https://localhost:8080/"
        },
        "id": "qA-U244em05T",
        "outputId": "6129a068-f589-41fe-e5f4-3ce7762a662d"
      },
      "execution_count": null,
      "outputs": [
        {
          "output_type": "stream",
          "name": "stdout",
          "text": [
            "<class 'pandas.core.series.Series'>\n",
            "Index: 3141 entries, 0 to 3298\n",
            "Series name: 리뷰\n",
            "Non-Null Count  Dtype \n",
            "--------------  ----- \n",
            "3141 non-null   object\n",
            "dtypes: object(1)\n",
            "memory usage: 49.1+ KB\n",
            "<class 'pandas.core.frame.DataFrame'>\n",
            "Index: 3141 entries, 0 to 3298\n",
            "Data columns (total 6 columns):\n",
            " #   Column  Non-Null Count  Dtype  \n",
            "---  ------  --------------  -----  \n",
            " 0   기간      3141 non-null   object \n",
            " 1   측정 국가   3141 non-null   object \n",
            " 2   장르      3141 non-null   object \n",
            " 3   리뷰      3141 non-null   object \n",
            " 4   측정월     3141 non-null   object \n",
            " 5   평점      3104 non-null   float64\n",
            "dtypes: float64(1), object(5)\n",
            "memory usage: 171.8+ KB\n",
            "<class 'pandas.core.frame.DataFrame'>\n",
            "Index: 3141 entries, 0 to 3298\n",
            "Data columns (total 6 columns):\n",
            " #   Column  Non-Null Count  Dtype  \n",
            "---  ------  --------------  -----  \n",
            " 0   기간      3141 non-null   object \n",
            " 1   측정 국가   3141 non-null   object \n",
            " 2   장르      3141 non-null   object \n",
            " 3   리뷰      3141 non-null   object \n",
            " 4   측정월     3141 non-null   object \n",
            " 5   평점      3141 non-null   float64\n",
            "dtypes: float64(1), object(5)\n",
            "memory usage: 171.8+ KB\n"
          ]
        }
      ]
    },
    {
      "cell_type": "markdown",
      "source": [
        "데이터 가공\n",
        "0. 월별 데이터 프레임\n",
        "1. 장르 등장 빈도수"
      ],
      "metadata": {
        "id": "mKhBgvj8tSLW"
      }
    },
    {
      "cell_type": "markdown",
      "source": [
        "뭐지\n"
      ],
      "metadata": {
        "id": "WogX-HSczhl6"
      }
    },
    {
      "cell_type": "code",
      "source": [
        "# '장르' 열의 null 값을 제거하여 새로운 데이터프레임 생성\n",
        "use_df_cleaned = use_df.dropna(subset=['장르'])\n",
        "\n",
        "# 결과 확인\n",
        "print(use_df_cleaned)"
      ],
      "metadata": {
        "colab": {
          "base_uri": "https://localhost:8080/"
        },
        "id": "7FbqFhfO6u5U",
        "outputId": "fc7d2921-e171-4ee8-9778-989ec8653a84"
      },
      "execution_count": null,
      "outputs": [
        {
          "output_type": "stream",
          "name": "stdout",
          "text": [
            "                                                     기간               측정 국가  \\\n",
            "0     For Tue, February 6, 2024 - Tue, February 13, ...  Korea, Republic of   \n",
            "1     For Tue, February 6, 2024 - Tue, February 13, ...  Korea, Republic of   \n",
            "2     For Tue, February 6, 2024 - Tue, February 13, ...  Korea, Republic of   \n",
            "3     For Tue, February 6, 2024 - Tue, February 13, ...  Korea, Republic of   \n",
            "4     For Tue, February 6, 2024 - Tue, February 13, ...  Korea, Republic of   \n",
            "...                                                 ...                 ...   \n",
            "3293      For Tue, April 16, 2024 - Tue, April 23, 2024               Japan   \n",
            "3295      For Tue, April 16, 2024 - Tue, April 23, 2024               Japan   \n",
            "3296      For Tue, April 16, 2024 - Tue, April 23, 2024               Japan   \n",
            "3297      For Tue, April 16, 2024 - Tue, April 23, 2024               Japan   \n",
            "3298      For Tue, April 16, 2024 - Tue, April 23, 2024               Japan   \n",
            "\n",
            "                                                     장르  \\\n",
            "0     Action,Adventure,Massively Multiplayer,Free to...   \n",
            "1               Action,Adventure,Indie,RPG,Early Access   \n",
            "2                                                Action   \n",
            "3                                                Action   \n",
            "4                   Action,Adventure,Indie,Early Access   \n",
            "...                                                 ...   \n",
            "3293   Action,Adventure,Indie,Massively Multiplayer,RPG   \n",
            "3295                                           Strategy   \n",
            "3296                                         Action,RPG   \n",
            "3297                                    Adventure,Indie   \n",
            "3298                      Action,Adventure,Casual,Indie   \n",
            "\n",
            "                                     리뷰       측정월   평점  \n",
            "0                     Mixed (2,348,376)  February  5.0  \n",
            "1               Very Positive (255,507)  February  3.0  \n",
            "2               Very Positive (315,043)  February  3.0  \n",
            "3              Mostly Positive (18,590)  February  4.0  \n",
            "4     Overwhelmingly Positive (313,879)  February  3.0  \n",
            "...                                 ...       ...  ...  \n",
            "3293                        Mixed (403)     April  5.0  \n",
            "3295             Very Positive (50,251)     April  3.0  \n",
            "3296            Very Positive (102,485)     April  3.0  \n",
            "3297  Overwhelmingly Positive (241,671)     April  3.0  \n",
            "3298            Mostly Positive (1,222)     April  4.0  \n",
            "\n",
            "[3141 rows x 6 columns]\n"
          ]
        }
      ]
    },
    {
      "cell_type": "code",
      "source": [
        "#월별 데이터 프레임\n",
        "#2월 일본\n",
        "FebruaryJapandata = use_df[(use_df['측정월'] == 'February') & (use_df['측정 국가'] == 'Japan')].copy()\n",
        "print(FebruaryJapandata)\n"
      ],
      "metadata": {
        "id": "sVV_Nsf9tgKt",
        "colab": {
          "base_uri": "https://localhost:8080/"
        },
        "outputId": "5cc1518b-4b36-4be4-c027-ac96b37b1f13"
      },
      "execution_count": null,
      "outputs": [
        {
          "output_type": "stream",
          "name": "stdout",
          "text": [
            "                                                     기간  측정 국가  \\\n",
            "2200  For Tue, February 6, 2024 - Tue, February 13, ...  Japan   \n",
            "2201  For Tue, February 6, 2024 - Tue, February 13, ...  Japan   \n",
            "2202  For Tue, February 6, 2024 - Tue, February 13, ...  Japan   \n",
            "2203  For Tue, February 6, 2024 - Tue, February 13, ...  Japan   \n",
            "2204  For Tue, February 6, 2024 - Tue, February 13, ...  Japan   \n",
            "...                                                 ...    ...   \n",
            "2594    For Tue, February 27, 2024 - Tue, March 5, 2024  Japan   \n",
            "2595    For Tue, February 27, 2024 - Tue, March 5, 2024  Japan   \n",
            "2597    For Tue, February 27, 2024 - Tue, March 5, 2024  Japan   \n",
            "2598    For Tue, February 27, 2024 - Tue, March 5, 2024  Japan   \n",
            "2599    For Tue, February 27, 2024 - Tue, March 5, 2024  Japan   \n",
            "\n",
            "                                           장르                         리뷰  \\\n",
            "2200         Simulation,Strategy,Free to Play   Mostly Positive (72,304)   \n",
            "2201            Action,Adventure,Casual,Indie    Mostly Positive (1,222)   \n",
            "2202                     Action,Adventure,RPG     Very Positive (29,236)   \n",
            "2203            Action,Adventure,Free to Play  Mostly Positive (819,631)   \n",
            "2204  Action,Adventure,Indie,RPG,Early Access    Very Positive (255,536)   \n",
            "...                                       ...                        ...   \n",
            "2594                                 Strategy     Very Positive (50,244)   \n",
            "2595                                   Action     Very Positive (33,999)   \n",
            "2597                     Action,Adventure,RPG  Mostly Positive (125,929)   \n",
            "2598                                Adventure      Very Positive (3,744)   \n",
            "2599                                   Action              Mixed (4,266)   \n",
            "\n",
            "           측정월   평점  \n",
            "2200  February  4.0  \n",
            "2201  February  4.0  \n",
            "2202  February  3.0  \n",
            "2203  February  4.0  \n",
            "2204  February  3.0  \n",
            "...        ...  ...  \n",
            "2594  February  3.0  \n",
            "2595  February  3.0  \n",
            "2597  February  4.0  \n",
            "2598  February  3.0  \n",
            "2599  February  5.0  \n",
            "\n",
            "[362 rows x 6 columns]\n"
          ]
        }
      ]
    },
    {
      "cell_type": "code",
      "source": [
        "#2월 한국\n",
        "FebruaryKoreadata = use_df[(use_df['측정월'] == 'February') & (use_df['측정 국가'] == 'Korea, Republic of')].copy()\n",
        "print(FebruaryKoreadata)"
      ],
      "metadata": {
        "id": "EIg2uJE1yajd",
        "colab": {
          "base_uri": "https://localhost:8080/"
        },
        "outputId": "97533405-3d82-445e-9ded-9cba341b69bf"
      },
      "execution_count": null,
      "outputs": [
        {
          "output_type": "stream",
          "name": "stdout",
          "text": [
            "                                                    기간               측정 국가  \\\n",
            "0    For Tue, February 6, 2024 - Tue, February 13, ...  Korea, Republic of   \n",
            "1    For Tue, February 6, 2024 - Tue, February 13, ...  Korea, Republic of   \n",
            "2    For Tue, February 6, 2024 - Tue, February 13, ...  Korea, Republic of   \n",
            "3    For Tue, February 6, 2024 - Tue, February 13, ...  Korea, Republic of   \n",
            "4    For Tue, February 6, 2024 - Tue, February 13, ...  Korea, Republic of   \n",
            "..                                                 ...                 ...   \n",
            "394    For Tue, February 27, 2024 - Tue, March 5, 2024  Korea, Republic of   \n",
            "395    For Tue, February 27, 2024 - Tue, March 5, 2024  Korea, Republic of   \n",
            "396    For Tue, February 27, 2024 - Tue, March 5, 2024  Korea, Republic of   \n",
            "398    For Tue, February 27, 2024 - Tue, March 5, 2024  Korea, Republic of   \n",
            "399    For Tue, February 27, 2024 - Tue, March 5, 2024  Korea, Republic of   \n",
            "\n",
            "                                                    장르  \\\n",
            "0    Action,Adventure,Massively Multiplayer,Free to...   \n",
            "1              Action,Adventure,Indie,RPG,Early Access   \n",
            "2                                               Action   \n",
            "3                                               Action   \n",
            "4                  Action,Adventure,Indie,Early Access   \n",
            "..                                                 ...   \n",
            "394                          Indie,Simulation,Strategy   \n",
            "395  Casual,Indie,Animation & Modeling,Design & Ill...   \n",
            "396                                           Strategy   \n",
            "398                                         Action,RPG   \n",
            "399  Action,Adventure,Indie,Massively Multiplayer,R...   \n",
            "\n",
            "                                    리뷰       측정월   평점  \n",
            "0                    Mixed (2,348,376)  February  5.0  \n",
            "1              Very Positive (255,507)  February  3.0  \n",
            "2              Very Positive (315,043)  February  3.0  \n",
            "3             Mostly Positive (18,590)  February  4.0  \n",
            "4    Overwhelmingly Positive (313,879)  February  3.0  \n",
            "..                                 ...       ...  ...  \n",
            "394  Overwhelmingly Positive (156,000)  February  3.0  \n",
            "395  Overwhelmingly Positive (714,430)  February  3.0  \n",
            "396            Very Positive (125,839)  February  3.0  \n",
            "398            Very Positive (102,485)  February  3.0  \n",
            "399                     Mixed (46,202)  February  5.0  \n",
            "\n",
            "[394 rows x 6 columns]\n"
          ]
        }
      ]
    },
    {
      "cell_type": "code",
      "source": [
        "#2월 중국\n",
        "FebruaryChinadata = use_df[(use_df['측정월'] == 'February') & (use_df['측정 국가'] == 'China')].copy()\n",
        "print(FebruaryChinadata)"
      ],
      "metadata": {
        "colab": {
          "base_uri": "https://localhost:8080/"
        },
        "id": "BV136qZW3C6K",
        "outputId": "902c3b5d-5541-4f31-99e6-82faea64ca24"
      },
      "execution_count": null,
      "outputs": [
        {
          "output_type": "stream",
          "name": "stdout",
          "text": [
            "                                                     기간  측정 국가  \\\n",
            "1100  For Tue, February 6, 2024 - Tue, February 13, ...  China   \n",
            "1101  For Tue, February 6, 2024 - Tue, February 13, ...  China   \n",
            "1102  For Tue, February 6, 2024 - Tue, February 13, ...  China   \n",
            "1103  For Tue, February 6, 2024 - Tue, February 13, ...  China   \n",
            "1104  For Tue, February 6, 2024 - Tue, February 13, ...  China   \n",
            "...                                                 ...    ...   \n",
            "1495    For Tue, February 27, 2024 - Tue, March 5, 2024  China   \n",
            "1496    For Tue, February 27, 2024 - Tue, March 5, 2024  China   \n",
            "1497    For Tue, February 27, 2024 - Tue, March 5, 2024  China   \n",
            "1498    For Tue, February 27, 2024 - Tue, March 5, 2024  China   \n",
            "1499    For Tue, February 27, 2024 - Tue, March 5, 2024  China   \n",
            "\n",
            "                                                     장르  \\\n",
            "1100  Action,Adventure,Massively Multiplayer,Free to...   \n",
            "1101                                Action,Free to Play   \n",
            "1102                      Action,Adventure,Free to Play   \n",
            "1103             Action,Adventure,Massively Multiplayer   \n",
            "1104            Action,Adventure,Indie,RPG,Early Access   \n",
            "...                                                 ...   \n",
            "1495                         Adventure,Indie,Simulation   \n",
            "1496                           Racing,Simulation,Sports   \n",
            "1497                                   Action,Adventure   \n",
            "1498                                       Action,Indie   \n",
            "1499                         Action,Adventure,Indie,RPG   \n",
            "\n",
            "                               리뷰       측정월   평점  \n",
            "1100            Mixed (2,348,443)  February  5.0  \n",
            "1101    Very Positive (8,022,716)  February  3.0  \n",
            "1102    Mostly Positive (819,631)  February  4.0  \n",
            "1103  Mostly Positive (217,991) *  February  4.0  \n",
            "1104      Very Positive (255,536)  February  3.0  \n",
            "...                           ...       ...  ...  \n",
            "1495      Very Positive (261,739)  February  3.0  \n",
            "1496      Mostly Positive (1,331)  February  4.0  \n",
            "1497      Very Positive (139,559)  February  3.0  \n",
            "1498       Very Positive (44,031)  February  3.0  \n",
            "1499        Very Positive (6,019)  February  3.0  \n",
            "\n",
            "[392 rows x 6 columns]\n"
          ]
        }
      ]
    },
    {
      "cell_type": "code",
      "source": [
        "#3월 중국\n",
        "MarchChinadata = use_df[(use_df['측정월'] == 'March') & (use_df['측정 국가'] == 'China')].copy()\n",
        "print(MarchChinadata)"
      ],
      "metadata": {
        "colab": {
          "base_uri": "https://localhost:8080/"
        },
        "id": "5hhDjJSU4gU6",
        "outputId": "1e9a1695-9d1a-4eae-a848-7047d3988a10"
      },
      "execution_count": null,
      "outputs": [
        {
          "output_type": "stream",
          "name": "stdout",
          "text": [
            "                                                기간  측정 국가  \\\n",
            "1500  For Tue, March 5, 2024 - Tue, March 12, 2024  China   \n",
            "1501  For Tue, March 5, 2024 - Tue, March 12, 2024  China   \n",
            "1502  For Tue, March 5, 2024 - Tue, March 12, 2024  China   \n",
            "1503  For Tue, March 5, 2024 - Tue, March 12, 2024  China   \n",
            "1504  For Tue, March 5, 2024 - Tue, March 12, 2024  China   \n",
            "...                                            ...    ...   \n",
            "1894  For Tue, March 26, 2024 - Tue, April 2, 2024  China   \n",
            "1895  For Tue, March 26, 2024 - Tue, April 2, 2024  China   \n",
            "1896  For Tue, March 26, 2024 - Tue, April 2, 2024  China   \n",
            "1897  For Tue, March 26, 2024 - Tue, April 2, 2024  China   \n",
            "1898  For Tue, March 26, 2024 - Tue, April 2, 2024  China   \n",
            "\n",
            "                                                     장르  \\\n",
            "1500                                Action,Free to Play   \n",
            "1501  Action,Adventure,Massively Multiplayer,Free to...   \n",
            "1502                      Action,Adventure,Free to Play   \n",
            "1503          Action,Adventure,Racing,Simulation,Sports   \n",
            "1504             Action,Adventure,Massively Multiplayer   \n",
            "...                                                 ...   \n",
            "1894                     Action,Adventure,Racing,Sports   \n",
            "1895                              Strategy,Free to Play   \n",
            "1896              Adventure,Casual,Indie,RPG,Simulation   \n",
            "1897                                             Action   \n",
            "1898                                             Action   \n",
            "\n",
            "                               리뷰    측정월   평점  \n",
            "1500    Very Positive (8,022,774)  March  3.0  \n",
            "1501            Mixed (2,348,468)  March  5.0  \n",
            "1502    Mostly Positive (819,637)  March  4.0  \n",
            "1503      Very Positive (159,923)  March  3.0  \n",
            "1504  Mostly Positive (217,997) *  March  4.0  \n",
            "...                           ...    ...  ...  \n",
            "1894       Very Positive (89,956)  March  3.0  \n",
            "1895     Mostly Positive (14,402)  March  4.0  \n",
            "1896       Very Positive (19,600)  March  3.0  \n",
            "1897    Very Positive (261,623) *  March  3.0  \n",
            "1898      Mostly Negative (1,284)  March  7.0  \n",
            "\n",
            "[391 rows x 6 columns]\n"
          ]
        }
      ]
    },
    {
      "cell_type": "code",
      "source": [
        "#3월 일본\n",
        "MarchJapandata = use_df[(use_df['측정월'] == 'March') & (use_df['측정 국가'] == 'Japan')].copy()\n",
        "print(MarchJapandata)"
      ],
      "metadata": {
        "colab": {
          "base_uri": "https://localhost:8080/"
        },
        "id": "xwRWLzC84qh6",
        "outputId": "a928e23e-3234-4e30-d962-7dc3e806872c"
      },
      "execution_count": null,
      "outputs": [
        {
          "output_type": "stream",
          "name": "stdout",
          "text": [
            "                                                기간  측정 국가  \\\n",
            "2600  For Tue, March 5, 2024 - Tue, March 12, 2024  Japan   \n",
            "2601  For Tue, March 5, 2024 - Tue, March 12, 2024  Japan   \n",
            "2602  For Tue, March 5, 2024 - Tue, March 12, 2024  Japan   \n",
            "2603  For Tue, March 5, 2024 - Tue, March 12, 2024  Japan   \n",
            "2604  For Tue, March 5, 2024 - Tue, March 12, 2024  Japan   \n",
            "...                                            ...    ...   \n",
            "2995  For Tue, March 26, 2024 - Tue, April 2, 2024  Japan   \n",
            "2996  For Tue, March 26, 2024 - Tue, April 2, 2024  Japan   \n",
            "2997  For Tue, March 26, 2024 - Tue, April 2, 2024  Japan   \n",
            "2998  For Tue, March 26, 2024 - Tue, April 2, 2024  Japan   \n",
            "2999  For Tue, March 26, 2024 - Tue, April 2, 2024  Japan   \n",
            "\n",
            "                                                     장르  \\\n",
            "2600                      Action,Adventure,Free to Play   \n",
            "2601                   Simulation,Strategy,Free to Play   \n",
            "2602                                         Action,RPG   \n",
            "2603                                             Action   \n",
            "2604                                   Action,Adventure   \n",
            "...                                                 ...   \n",
            "2995                                             Action   \n",
            "2996                         Action,Adventure,Indie,RPG   \n",
            "2997                            Action,Adventure,Casual   \n",
            "2998  Action,Adventure,Indie,Massively Multiplayer,R...   \n",
            "2999                                Action,Early Access   \n",
            "\n",
            "                                       리뷰    측정월   평점  \n",
            "2600            Mostly Positive (819,637)  March  4.0  \n",
            "2601             Mostly Positive (72,304)  March  4.0  \n",
            "2602                       Mixed (59,484)  March  5.0  \n",
            "2603            Very Positive (261,612) *  March  3.0  \n",
            "2604               Very Positive (23,681)  March  3.0  \n",
            "...                                   ...    ...  ...  \n",
            "2995                  Very Positive (222)  March  3.0  \n",
            "2996  Overwhelmingly Positive (1,018,651)  March  3.0  \n",
            "2997                      Mixed (198,885)  March  5.0  \n",
            "2998                       Mixed (46,199)  March  5.0  \n",
            "2999               Very Positive (21,241)  March  3.0  \n",
            "\n",
            "[350 rows x 6 columns]\n"
          ]
        }
      ]
    },
    {
      "cell_type": "code",
      "source": [
        "#3월 한국\n",
        "MarchKoreadata = use_df[(use_df['측정월'] == 'March') & (use_df['측정 국가'] == 'Korea, Republic of')].copy()\n",
        "print(MarchKoreadata)"
      ],
      "metadata": {
        "colab": {
          "base_uri": "https://localhost:8080/"
        },
        "id": "EcnOUj2C4yCO",
        "outputId": "96d3d6d7-3361-4b88-d6ca-57b655e9c541"
      },
      "execution_count": null,
      "outputs": [
        {
          "output_type": "stream",
          "name": "stdout",
          "text": [
            "                                               기간               측정 국가  \\\n",
            "400  For Tue, March 5, 2024 - Tue, March 12, 2024  Korea, Republic of   \n",
            "401  For Tue, March 5, 2024 - Tue, March 12, 2024  Korea, Republic of   \n",
            "402  For Tue, March 5, 2024 - Tue, March 12, 2024  Korea, Republic of   \n",
            "403  For Tue, March 5, 2024 - Tue, March 12, 2024  Korea, Republic of   \n",
            "404  For Tue, March 5, 2024 - Tue, March 12, 2024  Korea, Republic of   \n",
            "..                                            ...                 ...   \n",
            "795  For Tue, March 26, 2024 - Tue, April 2, 2024  Korea, Republic of   \n",
            "796  For Tue, March 26, 2024 - Tue, April 2, 2024  Korea, Republic of   \n",
            "797  For Tue, March 26, 2024 - Tue, April 2, 2024  Korea, Republic of   \n",
            "798  For Tue, March 26, 2024 - Tue, April 2, 2024  Korea, Republic of   \n",
            "799  For Tue, March 26, 2024 - Tue, April 2, 2024  Korea, Republic of   \n",
            "\n",
            "                                                    장르  \\\n",
            "400                                             Action   \n",
            "401  Action,Adventure,Massively Multiplayer,Free to...   \n",
            "402                        Indie,Strategy,Free to Play   \n",
            "403                                             Action   \n",
            "404            Action,Adventure,Indie,RPG,Early Access   \n",
            "..                                                 ...   \n",
            "795            Adventure,Indie,RPG,Simulation,Strategy   \n",
            "796                   Indie,Simulation,Sports,Strategy   \n",
            "797                                             Action   \n",
            "798                                   Action,Adventure   \n",
            "799                                             Action   \n",
            "\n",
            "                                  리뷰    측정월   평점  \n",
            "400          Very Positive (315,312)  March  3.0  \n",
            "401                Mixed (2,348,532)  March  5.0  \n",
            "402         Mostly Positive (55,760)  March  4.0  \n",
            "403         Mostly Positive (18,618)  March  4.0  \n",
            "404          Very Positive (255,543)  March  3.0  \n",
            "..                               ...    ...  ...  \n",
            "795  Overwhelmingly Positive (4,115)  March  3.0  \n",
            "796              Very Positive (279)  March  3.0  \n",
            "797                  Mixed (309,631)  March  5.0  \n",
            "798          Very Positive (520,523)  March  3.0  \n",
            "799          Mostly Negative (8,640)  March  7.0  \n",
            "\n",
            "[393 rows x 6 columns]\n"
          ]
        }
      ]
    },
    {
      "cell_type": "code",
      "source": [
        "#4월 한국\n",
        "AprilKoreadata = use_df[(use_df['측정월'] == 'April') & (use_df['측정 국가'] == 'Korea, Republic of')].copy()\n",
        "print(AprilKoreadata)"
      ],
      "metadata": {
        "colab": {
          "base_uri": "https://localhost:8080/"
        },
        "id": "ZlQWWUYa462A",
        "outputId": "730c9461-bafd-4ec9-b793-95df49150262"
      },
      "execution_count": null,
      "outputs": [
        {
          "output_type": "stream",
          "name": "stdout",
          "text": [
            "                                                 기간               측정 국가  \\\n",
            "800     For Tue, April 2, 2024 - Tue, April 9, 2024  Korea, Republic of   \n",
            "801     For Tue, April 2, 2024 - Tue, April 9, 2024  Korea, Republic of   \n",
            "802     For Tue, April 2, 2024 - Tue, April 9, 2024  Korea, Republic of   \n",
            "803     For Tue, April 2, 2024 - Tue, April 9, 2024  Korea, Republic of   \n",
            "804     For Tue, April 2, 2024 - Tue, April 9, 2024  Korea, Republic of   \n",
            "...                                             ...                 ...   \n",
            "1095  For Tue, April 16, 2024 - Tue, April 23, 2024  Korea, Republic of   \n",
            "1096  For Tue, April 16, 2024 - Tue, April 23, 2024  Korea, Republic of   \n",
            "1097  For Tue, April 16, 2024 - Tue, April 23, 2024  Korea, Republic of   \n",
            "1098  For Tue, April 16, 2024 - Tue, April 23, 2024  Korea, Republic of   \n",
            "1099  For Tue, April 16, 2024 - Tue, April 23, 2024  Korea, Republic of   \n",
            "\n",
            "                                                     장르  \\\n",
            "800   Action,Adventure,Massively Multiplayer,Free to...   \n",
            "801                                              Action   \n",
            "802                       Action,Adventure,Free to Play   \n",
            "803                             Action,RPG,Free to Play   \n",
            "804                                 Action,Free to Play   \n",
            "...                                                 ...   \n",
            "1095                                                RPG   \n",
            "1096                                             Action   \n",
            "1097                                             Racing   \n",
            "1098            Adventure,Casual,Indie,RPG,Early Access   \n",
            "1099                  Adventure,Casual,Indie,Simulation   \n",
            "\n",
            "                                     리뷰    측정월   평점  \n",
            "800                   Mixed (2,348,566)  April  5.0  \n",
            "801             Very Positive (315,312)  April  3.0  \n",
            "802           Mostly Positive (819,660)  April  4.0  \n",
            "803                       Mixed (3,430)  April  5.0  \n",
            "804           Very Positive (8,023,019)  April  3.0  \n",
            "...                                 ...    ...  ...  \n",
            "1095             Very Positive (13,989)  April  3.0  \n",
            "1096  Overwhelmingly Positive (116,838)  April  3.0  \n",
            "1097                        Mixed (535)  April  5.0  \n",
            "1098             Very Positive (24,570)  April  3.0  \n",
            "1099            Very Positive (152,955)  April  3.0  \n",
            "\n",
            "[297 rows x 6 columns]\n"
          ]
        }
      ]
    },
    {
      "cell_type": "code",
      "source": [
        "#4월 중국\n",
        "AprilChinadata = use_df[(use_df['측정월'] == 'April') & (use_df['측정 국가'] == 'China')].copy()\n",
        "print(AprilChinadata)"
      ],
      "metadata": {
        "colab": {
          "base_uri": "https://localhost:8080/"
        },
        "id": "36Jj8wh-5VKY",
        "outputId": "ec25f75f-85e7-49f7-e83d-de5db7b834e3"
      },
      "execution_count": null,
      "outputs": [
        {
          "output_type": "stream",
          "name": "stdout",
          "text": [
            "                                                 기간  측정 국가  \\\n",
            "1900    For Tue, April 2, 2024 - Tue, April 9, 2024  China   \n",
            "1901    For Tue, April 2, 2024 - Tue, April 9, 2024  China   \n",
            "1902    For Tue, April 2, 2024 - Tue, April 9, 2024  China   \n",
            "1903    For Tue, April 2, 2024 - Tue, April 9, 2024  China   \n",
            "1904    For Tue, April 2, 2024 - Tue, April 9, 2024  China   \n",
            "...                                             ...    ...   \n",
            "2195  For Tue, April 16, 2024 - Tue, April 23, 2024  China   \n",
            "2196  For Tue, April 16, 2024 - Tue, April 23, 2024  China   \n",
            "2197  For Tue, April 16, 2024 - Tue, April 23, 2024  China   \n",
            "2198  For Tue, April 16, 2024 - Tue, April 23, 2024  China   \n",
            "2199  For Tue, April 16, 2024 - Tue, April 23, 2024  China   \n",
            "\n",
            "                                                     장르  \\\n",
            "1900                                Action,Free to Play   \n",
            "1901  Action,Adventure,Massively Multiplayer,Free to...   \n",
            "1902                      Action,Adventure,Free to Play   \n",
            "1903             Action,Adventure,Massively Multiplayer   \n",
            "1904                                             Action   \n",
            "...                                                 ...   \n",
            "2195                                             Action   \n",
            "2196            Adventure,Indie,RPG,Simulation,Strategy   \n",
            "2197                         Action,Adventure,Indie,RPG   \n",
            "2198  Action,Massively Multiplayer,Simulation,Free t...   \n",
            "2199                            Action,Adventure,Casual   \n",
            "\n",
            "                                   리뷰    측정월   평점  \n",
            "1900        Very Positive (8,022,849)  April  3.0  \n",
            "1901                Mixed (2,348,510)  April  5.0  \n",
            "1902        Mostly Positive (819,648)  April  4.0  \n",
            "1903      Mostly Positive (218,005) *  April  4.0  \n",
            "1904                  Mixed (309,625)  April  5.0  \n",
            "...                               ...    ...  ...  \n",
            "2195           Very Positive (13,124)  April  3.0  \n",
            "2196  Overwhelmingly Positive (4,115)  April  3.0  \n",
            "2197           Very Positive (77,029)  April  3.0  \n",
            "2198      Mostly Positive (482,400) *  April  4.0  \n",
            "2199                  Mixed (198,885)  April  5.0  \n",
            "\n",
            "[295 rows x 6 columns]\n"
          ]
        }
      ]
    },
    {
      "cell_type": "code",
      "source": [
        "#4월 일본\n",
        "AprilJapandata = use_df[(use_df['측정월'] == 'April') & (use_df['측정 국가'] == 'Japan')].copy()\n",
        "print(AprilJapandata)"
      ],
      "metadata": {
        "colab": {
          "base_uri": "https://localhost:8080/"
        },
        "id": "SI0DK9uW5cSD",
        "outputId": "f30f1a34-4463-4696-aa6e-ca01864233c4"
      },
      "execution_count": null,
      "outputs": [
        {
          "output_type": "stream",
          "name": "stdout",
          "text": [
            "                                                 기간  측정 국가  \\\n",
            "3000    For Tue, April 2, 2024 - Tue, April 9, 2024  Japan   \n",
            "3001    For Tue, April 2, 2024 - Tue, April 9, 2024  Japan   \n",
            "3002    For Tue, April 2, 2024 - Tue, April 9, 2024  Japan   \n",
            "3003    For Tue, April 2, 2024 - Tue, April 9, 2024  Japan   \n",
            "3004    For Tue, April 2, 2024 - Tue, April 9, 2024  Japan   \n",
            "...                                             ...    ...   \n",
            "3293  For Tue, April 16, 2024 - Tue, April 23, 2024  Japan   \n",
            "3295  For Tue, April 16, 2024 - Tue, April 23, 2024  Japan   \n",
            "3296  For Tue, April 16, 2024 - Tue, April 23, 2024  Japan   \n",
            "3297  For Tue, April 16, 2024 - Tue, April 23, 2024  Japan   \n",
            "3298  For Tue, April 16, 2024 - Tue, April 23, 2024  Japan   \n",
            "\n",
            "                                                    장르  \\\n",
            "3000                     Action,Adventure,Free to Play   \n",
            "3001                  Simulation,Strategy,Free to Play   \n",
            "3002                        Adventure,RPG,Free to Play   \n",
            "3003                                            Action   \n",
            "3004                                  Action,Adventure   \n",
            "...                                                ...   \n",
            "3293  Action,Adventure,Indie,Massively Multiplayer,RPG   \n",
            "3295                                          Strategy   \n",
            "3296                                        Action,RPG   \n",
            "3297                                   Adventure,Indie   \n",
            "3298                     Action,Adventure,Casual,Indie   \n",
            "\n",
            "                                     리뷰    측정월   평점  \n",
            "3000          Mostly Positive (819,648)  April  4.0  \n",
            "3001           Mostly Positive (72,307)  April  4.0  \n",
            "3002              Very Positive (3,640)  April  3.0  \n",
            "3003          Very Positive (261,623) *  April  3.0  \n",
            "3004             Very Positive (23,682)  April  3.0  \n",
            "...                                 ...    ...  ...  \n",
            "3293                        Mixed (403)  April  5.0  \n",
            "3295             Very Positive (50,251)  April  3.0  \n",
            "3296            Very Positive (102,485)  April  3.0  \n",
            "3297  Overwhelmingly Positive (241,671)  April  3.0  \n",
            "3298            Mostly Positive (1,222)  April  4.0  \n",
            "\n",
            "[267 rows x 6 columns]\n"
          ]
        }
      ]
    },
    {
      "cell_type": "code",
      "source": [
        "# DataFrame1에서 장르별 빈도를 구함\n",
        "genre_counts = DataFrame1['장르'].value_counts()\n",
        "\n",
        "# 시각화\n",
        "plt.figure(figsize=(12, 6))\n",
        "sns.barplot(x=genre_counts.index, y=genre_counts.values)\n",
        "plt.xlabel('장르')\n",
        "plt.ylabel('빈도')\n",
        "plt.title('장르별 출연 빈도')\n",
        "plt.xticks(rotation=45)  # x축 레이블 회전\n",
        "plt.show()"
      ],
      "metadata": {
        "id": "GHBvp8MEHreP"
      },
      "execution_count": null,
      "outputs": []
    },
    {
      "cell_type": "code",
      "source": [
        "# 중국 2월꺼 '장르' 열에서 각 장르의 빈도수를 계산\n",
        "genre_counts = FebruaryChinadata['장르'].value_counts()\n",
        "\n",
        "# 상위 10개 장르 추출\n",
        "top_10_genres = genre_counts.head(20)\n",
        "# 결과 출력\n",
        "print(top_10_genres)"
      ],
      "metadata": {
        "colab": {
          "base_uri": "https://localhost:8080/"
        },
        "id": "TJTzIDvX5j1n",
        "outputId": "49fa44b9-d215-47fc-a57f-d2d05c9e43d1"
      },
      "execution_count": null,
      "outputs": [
        {
          "output_type": "stream",
          "name": "stdout",
          "text": [
            "장르\n",
            "Action                                                  53\n",
            "Action,Adventure                                        33\n",
            "Action,Adventure,RPG                                    31\n",
            "Action,RPG                                              19\n",
            "RPG                                                     14\n",
            "Action,Free to Play                                     12\n",
            "Action,Casual,Indie                                      9\n",
            "Adventure,RPG,Strategy                                   9\n",
            "Action,Massively Multiplayer,Simulation,Free to Play     8\n",
            "Action,Adventure,Indie                                   8\n",
            "Action,Adventure,Indie,RPG                               8\n",
            "Strategy                                                 8\n",
            "Simulation,Sports                                        7\n",
            "Adventure,Indie,RPG,Simulation,Strategy                  6\n",
            "Action,Indie                                             5\n",
            "Action,Adventure,RPG,Early Access                        5\n",
            "Indie,RPG,Simulation                                     5\n",
            "Simulation,Strategy                                      5\n",
            "Action,Adventure,Free to Play                            5\n",
            "Casual,Indie,Simulation,Early Access                     4\n",
            "Name: count, dtype: int64\n"
          ]
        }
      ]
    }
  ]
}